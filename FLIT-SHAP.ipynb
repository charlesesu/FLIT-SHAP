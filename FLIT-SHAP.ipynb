{
 "cells": [
  {
   "cell_type": "code",
   "execution_count": null,
   "id": "cbe1ffcb",
   "metadata": {},
   "outputs": [],
   "source": [
    "# import required packages"
   ]
  },
  {
   "cell_type": "code",
   "execution_count": null,
   "id": "5812819b",
   "metadata": {},
   "outputs": [],
   "source": [
    "# Train XGBoost model\n",
    "model = xgb_best.fit(X, y)\n",
    "\n",
    "# Calculate SHAP values\n",
    "explainer = shap.TreeExplainer(model)\n",
    "shap_values = explainer.shap_values(X)\n",
    "\n",
    "# obtain the global intercept\n",
    "global_intercept = y.mean()\n",
    "\n",
    "\n",
    "# Function to calculate FLIT-SHAP\n",
    "def transform_to_flit_shap(shap_df, global_intercept):\n",
    "    #Calculate average absolute values for each column\n",
    "    importance = shap_df.abs().mean()\n",
    "\n",
    "    #Calculate total importance\n",
    "    total_importance = importance.sum()\n",
    "\n",
    "    #Calculate local intercept for each column\n",
    "    local_intercepts = (importance / total_importance) * global_intercept\n",
    "\n",
    "    #Add local intercepts to each column in shap_df\n",
    "    flitshap_df = shap_df + local_intercepts\n",
    "\n",
    "    #Set negative values to 0\n",
    "    flitshap_df[flitshap_df < 0] = 0\n",
    "\n",
    "    #Display FLIT-SHAP DataFrame\n",
    "    print(\"FLIT-SHAP DataFrame:\")\n",
    "    print(flitshap_df)\n",
    "\n",
    "    return flitshap_df\n",
    "\n",
    "# Example usage:\n",
    "# Assuming you have a SHAP values DataFrame called shap_df\n",
    "# and a global intercept value called global_intercept\n",
    "# flitshap_df = transform_to_flit_shap(shap_df, global_intercept)"
   ]
  }
 ],
 "metadata": {
  "kernelspec": {
   "display_name": "Python 3 (ipykernel)",
   "language": "python",
   "name": "python3"
  },
  "language_info": {
   "codemirror_mode": {
    "name": "ipython",
    "version": 3
   },
   "file_extension": ".py",
   "mimetype": "text/x-python",
   "name": "python",
   "nbconvert_exporter": "python",
   "pygments_lexer": "ipython3",
   "version": "3.11.3"
  }
 },
 "nbformat": 4,
 "nbformat_minor": 5
}
